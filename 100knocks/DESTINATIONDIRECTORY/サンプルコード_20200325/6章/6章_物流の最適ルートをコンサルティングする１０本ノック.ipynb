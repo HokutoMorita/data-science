{
 "cells": [
  {
   "cell_type": "code",
   "execution_count": 50,
   "metadata": {},
   "outputs": [],
   "source": [
    "import pandas as pd\n",
    "import numpy as np\n",
    "\n",
    "# ネットワーク可視化ライブラリ\n",
    "import networkx as nx\n",
    "\n",
    "import matplotlib.pyplot as plt\n",
    "%matplotlib inline"
   ]
  },
  {
   "cell_type": "markdown",
   "metadata": {},
   "source": [
    "# 6章 物流の最適ルートをコンサルティングする１０本ノック\n",
    "\n",
    "ここでは、「物流」の基礎となる「輸送最適化」を検討するにあたっての基礎的な技術を習得します。  \n",
    "実際の物流データからネットワーク構造を可視化する方法について学び、最適な物流計画を立案する流れを学んでいきます。"
   ]
  },
  {
   "cell_type": "markdown",
   "metadata": {},
   "source": [
    "### ノック５１：物流に関するデータを読み込んでみよう"
   ]
  },
  {
   "cell_type": "markdown",
   "metadata": {},
   "source": [
    "#### 生産工場のデータ"
   ]
  },
  {
   "cell_type": "code",
   "execution_count": 2,
   "metadata": {},
   "outputs": [],
   "source": [
    "factories = pd.read_csv(\"tbl_factory.csv\", index_col=0)"
   ]
  },
  {
   "cell_type": "code",
   "execution_count": 3,
   "metadata": {},
   "outputs": [
    {
     "data": {
      "text/plain": [
       "(8, 3)"
      ]
     },
     "execution_count": 3,
     "metadata": {},
     "output_type": "execute_result"
    }
   ],
   "source": [
    "factories.shape"
   ]
  },
  {
   "cell_type": "code",
   "execution_count": 4,
   "metadata": {},
   "outputs": [
    {
     "data": {
      "text/html": [
       "<div>\n",
       "<style scoped>\n",
       "    .dataframe tbody tr th:only-of-type {\n",
       "        vertical-align: middle;\n",
       "    }\n",
       "\n",
       "    .dataframe tbody tr th {\n",
       "        vertical-align: top;\n",
       "    }\n",
       "\n",
       "    .dataframe thead th {\n",
       "        text-align: right;\n",
       "    }\n",
       "</style>\n",
       "<table border=\"1\" class=\"dataframe\">\n",
       "  <thead>\n",
       "    <tr style=\"text-align: right;\">\n",
       "      <th></th>\n",
       "      <th>FCName</th>\n",
       "      <th>FCDemand</th>\n",
       "      <th>FCRegion</th>\n",
       "    </tr>\n",
       "    <tr>\n",
       "      <th>FCID</th>\n",
       "      <th></th>\n",
       "      <th></th>\n",
       "      <th></th>\n",
       "    </tr>\n",
       "  </thead>\n",
       "  <tbody>\n",
       "    <tr>\n",
       "      <th>FC00001</th>\n",
       "      <td>東京工場</td>\n",
       "      <td>28</td>\n",
       "      <td>関東</td>\n",
       "    </tr>\n",
       "    <tr>\n",
       "      <th>FC00002</th>\n",
       "      <td>木更津工場</td>\n",
       "      <td>29</td>\n",
       "      <td>関東</td>\n",
       "    </tr>\n",
       "    <tr>\n",
       "      <th>FC00003</th>\n",
       "      <td>多摩工場</td>\n",
       "      <td>31</td>\n",
       "      <td>関東</td>\n",
       "    </tr>\n",
       "    <tr>\n",
       "      <th>FC00004</th>\n",
       "      <td>横須賀工場</td>\n",
       "      <td>25</td>\n",
       "      <td>関東</td>\n",
       "    </tr>\n",
       "    <tr>\n",
       "      <th>FC00005</th>\n",
       "      <td>仙台工場</td>\n",
       "      <td>21</td>\n",
       "      <td>東北</td>\n",
       "    </tr>\n",
       "  </tbody>\n",
       "</table>\n",
       "</div>"
      ],
      "text/plain": [
       "        FCName  FCDemand FCRegion\n",
       "FCID                             \n",
       "FC00001   東京工場        28       関東\n",
       "FC00002  木更津工場        29       関東\n",
       "FC00003   多摩工場        31       関東\n",
       "FC00004  横須賀工場        25       関東\n",
       "FC00005   仙台工場        21       東北"
      ]
     },
     "execution_count": 4,
     "metadata": {},
     "output_type": "execute_result"
    }
   ],
   "source": [
    "factories.head()"
   ]
  },
  {
   "cell_type": "markdown",
   "metadata": {},
   "source": [
    "#### 倉庫のデータ"
   ]
  },
  {
   "cell_type": "code",
   "execution_count": 5,
   "metadata": {},
   "outputs": [],
   "source": [
    "warehouses = pd.read_csv(\"tbl_warehouse.csv\", index_col=0)"
   ]
  },
  {
   "cell_type": "code",
   "execution_count": 6,
   "metadata": {},
   "outputs": [
    {
     "data": {
      "text/plain": [
       "(6, 3)"
      ]
     },
     "execution_count": 6,
     "metadata": {},
     "output_type": "execute_result"
    }
   ],
   "source": [
    "warehouses.shape"
   ]
  },
  {
   "cell_type": "code",
   "execution_count": 7,
   "metadata": {},
   "outputs": [
    {
     "data": {
      "text/html": [
       "<div>\n",
       "<style scoped>\n",
       "    .dataframe tbody tr th:only-of-type {\n",
       "        vertical-align: middle;\n",
       "    }\n",
       "\n",
       "    .dataframe tbody tr th {\n",
       "        vertical-align: top;\n",
       "    }\n",
       "\n",
       "    .dataframe thead th {\n",
       "        text-align: right;\n",
       "    }\n",
       "</style>\n",
       "<table border=\"1\" class=\"dataframe\">\n",
       "  <thead>\n",
       "    <tr style=\"text-align: right;\">\n",
       "      <th></th>\n",
       "      <th>WHName</th>\n",
       "      <th>WHSupply</th>\n",
       "      <th>WHRegion</th>\n",
       "    </tr>\n",
       "    <tr>\n",
       "      <th>WHID</th>\n",
       "      <th></th>\n",
       "      <th></th>\n",
       "      <th></th>\n",
       "    </tr>\n",
       "  </thead>\n",
       "  <tbody>\n",
       "    <tr>\n",
       "      <th>WH00001</th>\n",
       "      <td>杉並倉庫</td>\n",
       "      <td>35</td>\n",
       "      <td>関東</td>\n",
       "    </tr>\n",
       "    <tr>\n",
       "      <th>WH00002</th>\n",
       "      <td>品川倉庫</td>\n",
       "      <td>41</td>\n",
       "      <td>関東</td>\n",
       "    </tr>\n",
       "    <tr>\n",
       "      <th>WH00003</th>\n",
       "      <td>豊洲倉庫</td>\n",
       "      <td>42</td>\n",
       "      <td>関東</td>\n",
       "    </tr>\n",
       "    <tr>\n",
       "      <th>WH00004</th>\n",
       "      <td>郡山倉庫</td>\n",
       "      <td>60</td>\n",
       "      <td>東北</td>\n",
       "    </tr>\n",
       "    <tr>\n",
       "      <th>WH00005</th>\n",
       "      <td>仙台倉庫</td>\n",
       "      <td>72</td>\n",
       "      <td>東北</td>\n",
       "    </tr>\n",
       "  </tbody>\n",
       "</table>\n",
       "</div>"
      ],
      "text/plain": [
       "        WHName  WHSupply WHRegion\n",
       "WHID                             \n",
       "WH00001   杉並倉庫        35       関東\n",
       "WH00002   品川倉庫        41       関東\n",
       "WH00003   豊洲倉庫        42       関東\n",
       "WH00004   郡山倉庫        60       東北\n",
       "WH00005   仙台倉庫        72       東北"
      ]
     },
     "execution_count": 7,
     "metadata": {},
     "output_type": "execute_result"
    }
   ],
   "source": [
    "warehouses.head()"
   ]
  },
  {
   "cell_type": "markdown",
   "metadata": {},
   "source": [
    "#### 倉庫と工場間の輸送コストのデータ"
   ]
  },
  {
   "cell_type": "code",
   "execution_count": 8,
   "metadata": {},
   "outputs": [],
   "source": [
    "cost = pd.read_csv(\"rel_cost.csv\", index_col=0)"
   ]
  },
  {
   "cell_type": "code",
   "execution_count": 9,
   "metadata": {},
   "outputs": [
    {
     "data": {
      "text/plain": [
       "(24, 3)"
      ]
     },
     "execution_count": 9,
     "metadata": {},
     "output_type": "execute_result"
    }
   ],
   "source": [
    "cost.shape"
   ]
  },
  {
   "cell_type": "code",
   "execution_count": 10,
   "metadata": {},
   "outputs": [
    {
     "data": {
      "text/html": [
       "<div>\n",
       "<style scoped>\n",
       "    .dataframe tbody tr th:only-of-type {\n",
       "        vertical-align: middle;\n",
       "    }\n",
       "\n",
       "    .dataframe tbody tr th {\n",
       "        vertical-align: top;\n",
       "    }\n",
       "\n",
       "    .dataframe thead th {\n",
       "        text-align: right;\n",
       "    }\n",
       "</style>\n",
       "<table border=\"1\" class=\"dataframe\">\n",
       "  <thead>\n",
       "    <tr style=\"text-align: right;\">\n",
       "      <th></th>\n",
       "      <th>FCID</th>\n",
       "      <th>WHID</th>\n",
       "      <th>Cost</th>\n",
       "    </tr>\n",
       "    <tr>\n",
       "      <th>RCostID</th>\n",
       "      <th></th>\n",
       "      <th></th>\n",
       "      <th></th>\n",
       "    </tr>\n",
       "  </thead>\n",
       "  <tbody>\n",
       "    <tr>\n",
       "      <th>1</th>\n",
       "      <td>FC00001</td>\n",
       "      <td>WH00001</td>\n",
       "      <td>0.4</td>\n",
       "    </tr>\n",
       "    <tr>\n",
       "      <th>2</th>\n",
       "      <td>FC00001</td>\n",
       "      <td>WH00002</td>\n",
       "      <td>0.8</td>\n",
       "    </tr>\n",
       "    <tr>\n",
       "      <th>3</th>\n",
       "      <td>FC00001</td>\n",
       "      <td>WH00003</td>\n",
       "      <td>1.5</td>\n",
       "    </tr>\n",
       "    <tr>\n",
       "      <th>4</th>\n",
       "      <td>FC00002</td>\n",
       "      <td>WH00001</td>\n",
       "      <td>0.9</td>\n",
       "    </tr>\n",
       "    <tr>\n",
       "      <th>5</th>\n",
       "      <td>FC00002</td>\n",
       "      <td>WH00002</td>\n",
       "      <td>0.8</td>\n",
       "    </tr>\n",
       "  </tbody>\n",
       "</table>\n",
       "</div>"
      ],
      "text/plain": [
       "            FCID     WHID  Cost\n",
       "RCostID                        \n",
       "1        FC00001  WH00001   0.4\n",
       "2        FC00001  WH00002   0.8\n",
       "3        FC00001  WH00003   1.5\n",
       "4        FC00002  WH00001   0.9\n",
       "5        FC00002  WH00002   0.8"
      ]
     },
     "execution_count": 10,
     "metadata": {},
     "output_type": "execute_result"
    }
   ],
   "source": [
    "cost.head()"
   ]
  },
  {
   "cell_type": "markdown",
   "metadata": {},
   "source": [
    "「FC00001工場」へ「WH00001倉庫」から部品を輸送した場合コスト0.4がかかるという意味になる。"
   ]
  },
  {
   "cell_type": "markdown",
   "metadata": {},
   "source": [
    "#### 2019年の工場への部品輸送実績のデータ"
   ]
  },
  {
   "cell_type": "code",
   "execution_count": 11,
   "metadata": {},
   "outputs": [],
   "source": [
    "trans = pd.read_csv(\"tbl_transaction.csv\", index_col=0)"
   ]
  },
  {
   "cell_type": "code",
   "execution_count": 12,
   "metadata": {},
   "outputs": [
    {
     "data": {
      "text/plain": [
       "(4000, 4)"
      ]
     },
     "execution_count": 12,
     "metadata": {},
     "output_type": "execute_result"
    }
   ],
   "source": [
    "trans.shape"
   ]
  },
  {
   "cell_type": "code",
   "execution_count": 13,
   "metadata": {},
   "outputs": [
    {
     "data": {
      "text/html": [
       "<div>\n",
       "<style scoped>\n",
       "    .dataframe tbody tr th:only-of-type {\n",
       "        vertical-align: middle;\n",
       "    }\n",
       "\n",
       "    .dataframe tbody tr th {\n",
       "        vertical-align: top;\n",
       "    }\n",
       "\n",
       "    .dataframe thead th {\n",
       "        text-align: right;\n",
       "    }\n",
       "</style>\n",
       "<table border=\"1\" class=\"dataframe\">\n",
       "  <thead>\n",
       "    <tr style=\"text-align: right;\">\n",
       "      <th></th>\n",
       "      <th>TransactionDate</th>\n",
       "      <th>ToFC</th>\n",
       "      <th>FromWH</th>\n",
       "      <th>Quantity</th>\n",
       "    </tr>\n",
       "    <tr>\n",
       "      <th>TRID</th>\n",
       "      <th></th>\n",
       "      <th></th>\n",
       "      <th></th>\n",
       "      <th></th>\n",
       "    </tr>\n",
       "  </thead>\n",
       "  <tbody>\n",
       "    <tr>\n",
       "      <th>0</th>\n",
       "      <td>2019-01-01 02:11:10</td>\n",
       "      <td>FC00004</td>\n",
       "      <td>WH00003</td>\n",
       "      <td>33</td>\n",
       "    </tr>\n",
       "    <tr>\n",
       "      <th>1</th>\n",
       "      <td>2019-01-01 06:12:42</td>\n",
       "      <td>FC00007</td>\n",
       "      <td>WH00006</td>\n",
       "      <td>19</td>\n",
       "    </tr>\n",
       "    <tr>\n",
       "      <th>2</th>\n",
       "      <td>2019-01-01 06:32:32</td>\n",
       "      <td>FC00006</td>\n",
       "      <td>WH00004</td>\n",
       "      <td>31</td>\n",
       "    </tr>\n",
       "    <tr>\n",
       "      <th>3</th>\n",
       "      <td>2019-01-01 07:17:06</td>\n",
       "      <td>FC00002</td>\n",
       "      <td>WH00003</td>\n",
       "      <td>18</td>\n",
       "    </tr>\n",
       "    <tr>\n",
       "      <th>4</th>\n",
       "      <td>2019-01-01 07:52:18</td>\n",
       "      <td>FC00001</td>\n",
       "      <td>WH00002</td>\n",
       "      <td>30</td>\n",
       "    </tr>\n",
       "  </tbody>\n",
       "</table>\n",
       "</div>"
      ],
      "text/plain": [
       "          TransactionDate     ToFC   FromWH  Quantity\n",
       "TRID                                                 \n",
       "0     2019-01-01 02:11:10  FC00004  WH00003        33\n",
       "1     2019-01-01 06:12:42  FC00007  WH00006        19\n",
       "2     2019-01-01 06:32:32  FC00006  WH00004        31\n",
       "3     2019-01-01 07:17:06  FC00002  WH00003        18\n",
       "4     2019-01-01 07:52:18  FC00001  WH00002        30"
      ]
     },
     "execution_count": 13,
     "metadata": {},
     "output_type": "execute_result"
    }
   ],
   "source": [
    "trans.head()"
   ]
  },
  {
   "cell_type": "markdown",
   "metadata": {},
   "source": [
    "#### 輸送実績データとコストデータの結合結果"
   ]
  },
  {
   "cell_type": "code",
   "execution_count": 14,
   "metadata": {},
   "outputs": [],
   "source": [
    "join_data = pd.merge(trans, cost, left_on=[\"ToFC\", \"FromWH\"], right_on=[\"FCID\", \"WHID\"], how=\"left\")"
   ]
  },
  {
   "cell_type": "code",
   "execution_count": 15,
   "metadata": {},
   "outputs": [
    {
     "data": {
      "text/plain": [
       "(4000, 7)"
      ]
     },
     "execution_count": 15,
     "metadata": {},
     "output_type": "execute_result"
    }
   ],
   "source": [
    "join_data.shape"
   ]
  },
  {
   "cell_type": "code",
   "execution_count": 16,
   "metadata": {},
   "outputs": [
    {
     "data": {
      "text/html": [
       "<div>\n",
       "<style scoped>\n",
       "    .dataframe tbody tr th:only-of-type {\n",
       "        vertical-align: middle;\n",
       "    }\n",
       "\n",
       "    .dataframe tbody tr th {\n",
       "        vertical-align: top;\n",
       "    }\n",
       "\n",
       "    .dataframe thead th {\n",
       "        text-align: right;\n",
       "    }\n",
       "</style>\n",
       "<table border=\"1\" class=\"dataframe\">\n",
       "  <thead>\n",
       "    <tr style=\"text-align: right;\">\n",
       "      <th></th>\n",
       "      <th>TransactionDate</th>\n",
       "      <th>ToFC</th>\n",
       "      <th>FromWH</th>\n",
       "      <th>Quantity</th>\n",
       "      <th>FCID</th>\n",
       "      <th>WHID</th>\n",
       "      <th>Cost</th>\n",
       "    </tr>\n",
       "  </thead>\n",
       "  <tbody>\n",
       "    <tr>\n",
       "      <th>0</th>\n",
       "      <td>2019-01-01 02:11:10</td>\n",
       "      <td>FC00004</td>\n",
       "      <td>WH00003</td>\n",
       "      <td>33</td>\n",
       "      <td>FC00004</td>\n",
       "      <td>WH00003</td>\n",
       "      <td>1.1</td>\n",
       "    </tr>\n",
       "    <tr>\n",
       "      <th>1</th>\n",
       "      <td>2019-01-01 06:12:42</td>\n",
       "      <td>FC00007</td>\n",
       "      <td>WH00006</td>\n",
       "      <td>19</td>\n",
       "      <td>FC00007</td>\n",
       "      <td>WH00006</td>\n",
       "      <td>1.3</td>\n",
       "    </tr>\n",
       "    <tr>\n",
       "      <th>2</th>\n",
       "      <td>2019-01-01 06:32:32</td>\n",
       "      <td>FC00006</td>\n",
       "      <td>WH00004</td>\n",
       "      <td>31</td>\n",
       "      <td>FC00006</td>\n",
       "      <td>WH00004</td>\n",
       "      <td>0.9</td>\n",
       "    </tr>\n",
       "    <tr>\n",
       "      <th>3</th>\n",
       "      <td>2019-01-01 07:17:06</td>\n",
       "      <td>FC00002</td>\n",
       "      <td>WH00003</td>\n",
       "      <td>18</td>\n",
       "      <td>FC00002</td>\n",
       "      <td>WH00003</td>\n",
       "      <td>1.6</td>\n",
       "    </tr>\n",
       "    <tr>\n",
       "      <th>4</th>\n",
       "      <td>2019-01-01 07:52:18</td>\n",
       "      <td>FC00001</td>\n",
       "      <td>WH00002</td>\n",
       "      <td>30</td>\n",
       "      <td>FC00001</td>\n",
       "      <td>WH00002</td>\n",
       "      <td>0.8</td>\n",
       "    </tr>\n",
       "  </tbody>\n",
       "</table>\n",
       "</div>"
      ],
      "text/plain": [
       "       TransactionDate     ToFC   FromWH  Quantity     FCID     WHID  Cost\n",
       "0  2019-01-01 02:11:10  FC00004  WH00003        33  FC00004  WH00003   1.1\n",
       "1  2019-01-01 06:12:42  FC00007  WH00006        19  FC00007  WH00006   1.3\n",
       "2  2019-01-01 06:32:32  FC00006  WH00004        31  FC00006  WH00004   0.9\n",
       "3  2019-01-01 07:17:06  FC00002  WH00003        18  FC00002  WH00003   1.6\n",
       "4  2019-01-01 07:52:18  FC00001  WH00002        30  FC00001  WH00002   0.8"
      ]
     },
     "execution_count": 16,
     "metadata": {},
     "output_type": "execute_result"
    }
   ],
   "source": [
    "join_data.head()"
   ]
  },
  {
   "cell_type": "markdown",
   "metadata": {},
   "source": [
    "#### 工場データを追加結合した結果"
   ]
  },
  {
   "cell_type": "code",
   "execution_count": 17,
   "metadata": {},
   "outputs": [],
   "source": [
    "join_data = pd.merge(join_data, factories, left_on=\"ToFC\", right_on=\"FCID\", how=\"left\")"
   ]
  },
  {
   "cell_type": "code",
   "execution_count": 18,
   "metadata": {},
   "outputs": [
    {
     "data": {
      "text/plain": [
       "(4000, 10)"
      ]
     },
     "execution_count": 18,
     "metadata": {},
     "output_type": "execute_result"
    }
   ],
   "source": [
    "join_data.shape"
   ]
  },
  {
   "cell_type": "code",
   "execution_count": 19,
   "metadata": {},
   "outputs": [
    {
     "data": {
      "text/html": [
       "<div>\n",
       "<style scoped>\n",
       "    .dataframe tbody tr th:only-of-type {\n",
       "        vertical-align: middle;\n",
       "    }\n",
       "\n",
       "    .dataframe tbody tr th {\n",
       "        vertical-align: top;\n",
       "    }\n",
       "\n",
       "    .dataframe thead th {\n",
       "        text-align: right;\n",
       "    }\n",
       "</style>\n",
       "<table border=\"1\" class=\"dataframe\">\n",
       "  <thead>\n",
       "    <tr style=\"text-align: right;\">\n",
       "      <th></th>\n",
       "      <th>TransactionDate</th>\n",
       "      <th>ToFC</th>\n",
       "      <th>FromWH</th>\n",
       "      <th>Quantity</th>\n",
       "      <th>FCID</th>\n",
       "      <th>WHID</th>\n",
       "      <th>Cost</th>\n",
       "      <th>FCName</th>\n",
       "      <th>FCDemand</th>\n",
       "      <th>FCRegion</th>\n",
       "    </tr>\n",
       "  </thead>\n",
       "  <tbody>\n",
       "    <tr>\n",
       "      <th>0</th>\n",
       "      <td>2019-01-01 02:11:10</td>\n",
       "      <td>FC00004</td>\n",
       "      <td>WH00003</td>\n",
       "      <td>33</td>\n",
       "      <td>FC00004</td>\n",
       "      <td>WH00003</td>\n",
       "      <td>1.1</td>\n",
       "      <td>横須賀工場</td>\n",
       "      <td>25</td>\n",
       "      <td>関東</td>\n",
       "    </tr>\n",
       "    <tr>\n",
       "      <th>1</th>\n",
       "      <td>2019-01-01 06:12:42</td>\n",
       "      <td>FC00007</td>\n",
       "      <td>WH00006</td>\n",
       "      <td>19</td>\n",
       "      <td>FC00007</td>\n",
       "      <td>WH00006</td>\n",
       "      <td>1.3</td>\n",
       "      <td>那須工場</td>\n",
       "      <td>25</td>\n",
       "      <td>東北</td>\n",
       "    </tr>\n",
       "    <tr>\n",
       "      <th>2</th>\n",
       "      <td>2019-01-01 06:32:32</td>\n",
       "      <td>FC00006</td>\n",
       "      <td>WH00004</td>\n",
       "      <td>31</td>\n",
       "      <td>FC00006</td>\n",
       "      <td>WH00004</td>\n",
       "      <td>0.9</td>\n",
       "      <td>山形工場</td>\n",
       "      <td>30</td>\n",
       "      <td>東北</td>\n",
       "    </tr>\n",
       "    <tr>\n",
       "      <th>3</th>\n",
       "      <td>2019-01-01 07:17:06</td>\n",
       "      <td>FC00002</td>\n",
       "      <td>WH00003</td>\n",
       "      <td>18</td>\n",
       "      <td>FC00002</td>\n",
       "      <td>WH00003</td>\n",
       "      <td>1.6</td>\n",
       "      <td>木更津工場</td>\n",
       "      <td>29</td>\n",
       "      <td>関東</td>\n",
       "    </tr>\n",
       "    <tr>\n",
       "      <th>4</th>\n",
       "      <td>2019-01-01 07:52:18</td>\n",
       "      <td>FC00001</td>\n",
       "      <td>WH00002</td>\n",
       "      <td>30</td>\n",
       "      <td>FC00001</td>\n",
       "      <td>WH00002</td>\n",
       "      <td>0.8</td>\n",
       "      <td>東京工場</td>\n",
       "      <td>28</td>\n",
       "      <td>関東</td>\n",
       "    </tr>\n",
       "  </tbody>\n",
       "</table>\n",
       "</div>"
      ],
      "text/plain": [
       "       TransactionDate     ToFC   FromWH  Quantity     FCID     WHID  Cost  \\\n",
       "0  2019-01-01 02:11:10  FC00004  WH00003        33  FC00004  WH00003   1.1   \n",
       "1  2019-01-01 06:12:42  FC00007  WH00006        19  FC00007  WH00006   1.3   \n",
       "2  2019-01-01 06:32:32  FC00006  WH00004        31  FC00006  WH00004   0.9   \n",
       "3  2019-01-01 07:17:06  FC00002  WH00003        18  FC00002  WH00003   1.6   \n",
       "4  2019-01-01 07:52:18  FC00001  WH00002        30  FC00001  WH00002   0.8   \n",
       "\n",
       "  FCName  FCDemand FCRegion  \n",
       "0  横須賀工場        25       関東  \n",
       "1   那須工場        25       東北  \n",
       "2   山形工場        30       東北  \n",
       "3  木更津工場        29       関東  \n",
       "4   東京工場        28       関東  "
      ]
     },
     "execution_count": 19,
     "metadata": {},
     "output_type": "execute_result"
    }
   ],
   "source": [
    "join_data.head()"
   ]
  },
  {
   "cell_type": "markdown",
   "metadata": {},
   "source": [
    "#### 倉庫データを追加結合し、カラム整形を実施した結果"
   ]
  },
  {
   "cell_type": "code",
   "execution_count": 20,
   "metadata": {},
   "outputs": [],
   "source": [
    "join_data = pd.merge(join_data, warehouses, left_on=\"FromWH\", right_on=\"WHID\", how=\"left\")"
   ]
  },
  {
   "cell_type": "code",
   "execution_count": 21,
   "metadata": {},
   "outputs": [
    {
     "data": {
      "text/html": [
       "<div>\n",
       "<style scoped>\n",
       "    .dataframe tbody tr th:only-of-type {\n",
       "        vertical-align: middle;\n",
       "    }\n",
       "\n",
       "    .dataframe tbody tr th {\n",
       "        vertical-align: top;\n",
       "    }\n",
       "\n",
       "    .dataframe thead th {\n",
       "        text-align: right;\n",
       "    }\n",
       "</style>\n",
       "<table border=\"1\" class=\"dataframe\">\n",
       "  <thead>\n",
       "    <tr style=\"text-align: right;\">\n",
       "      <th></th>\n",
       "      <th>TransactionDate</th>\n",
       "      <th>ToFC</th>\n",
       "      <th>FromWH</th>\n",
       "      <th>Quantity</th>\n",
       "      <th>FCID</th>\n",
       "      <th>WHID</th>\n",
       "      <th>Cost</th>\n",
       "      <th>FCName</th>\n",
       "      <th>FCDemand</th>\n",
       "      <th>FCRegion</th>\n",
       "      <th>WHName</th>\n",
       "      <th>WHSupply</th>\n",
       "      <th>WHRegion</th>\n",
       "    </tr>\n",
       "  </thead>\n",
       "  <tbody>\n",
       "    <tr>\n",
       "      <th>0</th>\n",
       "      <td>2019-01-01 02:11:10</td>\n",
       "      <td>FC00004</td>\n",
       "      <td>WH00003</td>\n",
       "      <td>33</td>\n",
       "      <td>FC00004</td>\n",
       "      <td>WH00003</td>\n",
       "      <td>1.1</td>\n",
       "      <td>横須賀工場</td>\n",
       "      <td>25</td>\n",
       "      <td>関東</td>\n",
       "      <td>豊洲倉庫</td>\n",
       "      <td>42</td>\n",
       "      <td>関東</td>\n",
       "    </tr>\n",
       "    <tr>\n",
       "      <th>1</th>\n",
       "      <td>2019-01-01 06:12:42</td>\n",
       "      <td>FC00007</td>\n",
       "      <td>WH00006</td>\n",
       "      <td>19</td>\n",
       "      <td>FC00007</td>\n",
       "      <td>WH00006</td>\n",
       "      <td>1.3</td>\n",
       "      <td>那須工場</td>\n",
       "      <td>25</td>\n",
       "      <td>東北</td>\n",
       "      <td>山形倉庫</td>\n",
       "      <td>65</td>\n",
       "      <td>東北</td>\n",
       "    </tr>\n",
       "    <tr>\n",
       "      <th>2</th>\n",
       "      <td>2019-01-01 06:32:32</td>\n",
       "      <td>FC00006</td>\n",
       "      <td>WH00004</td>\n",
       "      <td>31</td>\n",
       "      <td>FC00006</td>\n",
       "      <td>WH00004</td>\n",
       "      <td>0.9</td>\n",
       "      <td>山形工場</td>\n",
       "      <td>30</td>\n",
       "      <td>東北</td>\n",
       "      <td>郡山倉庫</td>\n",
       "      <td>60</td>\n",
       "      <td>東北</td>\n",
       "    </tr>\n",
       "    <tr>\n",
       "      <th>3</th>\n",
       "      <td>2019-01-01 07:17:06</td>\n",
       "      <td>FC00002</td>\n",
       "      <td>WH00003</td>\n",
       "      <td>18</td>\n",
       "      <td>FC00002</td>\n",
       "      <td>WH00003</td>\n",
       "      <td>1.6</td>\n",
       "      <td>木更津工場</td>\n",
       "      <td>29</td>\n",
       "      <td>関東</td>\n",
       "      <td>豊洲倉庫</td>\n",
       "      <td>42</td>\n",
       "      <td>関東</td>\n",
       "    </tr>\n",
       "    <tr>\n",
       "      <th>4</th>\n",
       "      <td>2019-01-01 07:52:18</td>\n",
       "      <td>FC00001</td>\n",
       "      <td>WH00002</td>\n",
       "      <td>30</td>\n",
       "      <td>FC00001</td>\n",
       "      <td>WH00002</td>\n",
       "      <td>0.8</td>\n",
       "      <td>東京工場</td>\n",
       "      <td>28</td>\n",
       "      <td>関東</td>\n",
       "      <td>品川倉庫</td>\n",
       "      <td>41</td>\n",
       "      <td>関東</td>\n",
       "    </tr>\n",
       "  </tbody>\n",
       "</table>\n",
       "</div>"
      ],
      "text/plain": [
       "       TransactionDate     ToFC   FromWH  Quantity     FCID     WHID  Cost  \\\n",
       "0  2019-01-01 02:11:10  FC00004  WH00003        33  FC00004  WH00003   1.1   \n",
       "1  2019-01-01 06:12:42  FC00007  WH00006        19  FC00007  WH00006   1.3   \n",
       "2  2019-01-01 06:32:32  FC00006  WH00004        31  FC00006  WH00004   0.9   \n",
       "3  2019-01-01 07:17:06  FC00002  WH00003        18  FC00002  WH00003   1.6   \n",
       "4  2019-01-01 07:52:18  FC00001  WH00002        30  FC00001  WH00002   0.8   \n",
       "\n",
       "  FCName  FCDemand FCRegion WHName  WHSupply WHRegion  \n",
       "0  横須賀工場        25       関東   豊洲倉庫        42       関東  \n",
       "1   那須工場        25       東北   山形倉庫        65       東北  \n",
       "2   山形工場        30       東北   郡山倉庫        60       東北  \n",
       "3  木更津工場        29       関東   豊洲倉庫        42       関東  \n",
       "4   東京工場        28       関東   品川倉庫        41       関東  "
      ]
     },
     "execution_count": 21,
     "metadata": {},
     "output_type": "execute_result"
    }
   ],
   "source": [
    "join_data.head()"
   ]
  },
  {
   "cell_type": "code",
   "execution_count": 22,
   "metadata": {},
   "outputs": [],
   "source": [
    "join_data = join_data[[\"TransactionDate\", \"Quantity\", \"Cost\", \"ToFC\", \"FCName\", \"FCDemand\", \"FromWH\", \"WHName\", \"WHSupply\", \"WHRegion\"]]"
   ]
  },
  {
   "cell_type": "code",
   "execution_count": 23,
   "metadata": {},
   "outputs": [
    {
     "data": {
      "text/html": [
       "<div>\n",
       "<style scoped>\n",
       "    .dataframe tbody tr th:only-of-type {\n",
       "        vertical-align: middle;\n",
       "    }\n",
       "\n",
       "    .dataframe tbody tr th {\n",
       "        vertical-align: top;\n",
       "    }\n",
       "\n",
       "    .dataframe thead th {\n",
       "        text-align: right;\n",
       "    }\n",
       "</style>\n",
       "<table border=\"1\" class=\"dataframe\">\n",
       "  <thead>\n",
       "    <tr style=\"text-align: right;\">\n",
       "      <th></th>\n",
       "      <th>TransactionDate</th>\n",
       "      <th>Quantity</th>\n",
       "      <th>Cost</th>\n",
       "      <th>ToFC</th>\n",
       "      <th>FCName</th>\n",
       "      <th>FCDemand</th>\n",
       "      <th>FromWH</th>\n",
       "      <th>WHName</th>\n",
       "      <th>WHSupply</th>\n",
       "      <th>WHRegion</th>\n",
       "    </tr>\n",
       "  </thead>\n",
       "  <tbody>\n",
       "    <tr>\n",
       "      <th>0</th>\n",
       "      <td>2019-01-01 02:11:10</td>\n",
       "      <td>33</td>\n",
       "      <td>1.1</td>\n",
       "      <td>FC00004</td>\n",
       "      <td>横須賀工場</td>\n",
       "      <td>25</td>\n",
       "      <td>WH00003</td>\n",
       "      <td>豊洲倉庫</td>\n",
       "      <td>42</td>\n",
       "      <td>関東</td>\n",
       "    </tr>\n",
       "    <tr>\n",
       "      <th>1</th>\n",
       "      <td>2019-01-01 06:12:42</td>\n",
       "      <td>19</td>\n",
       "      <td>1.3</td>\n",
       "      <td>FC00007</td>\n",
       "      <td>那須工場</td>\n",
       "      <td>25</td>\n",
       "      <td>WH00006</td>\n",
       "      <td>山形倉庫</td>\n",
       "      <td>65</td>\n",
       "      <td>東北</td>\n",
       "    </tr>\n",
       "    <tr>\n",
       "      <th>2</th>\n",
       "      <td>2019-01-01 06:32:32</td>\n",
       "      <td>31</td>\n",
       "      <td>0.9</td>\n",
       "      <td>FC00006</td>\n",
       "      <td>山形工場</td>\n",
       "      <td>30</td>\n",
       "      <td>WH00004</td>\n",
       "      <td>郡山倉庫</td>\n",
       "      <td>60</td>\n",
       "      <td>東北</td>\n",
       "    </tr>\n",
       "    <tr>\n",
       "      <th>3</th>\n",
       "      <td>2019-01-01 07:17:06</td>\n",
       "      <td>18</td>\n",
       "      <td>1.6</td>\n",
       "      <td>FC00002</td>\n",
       "      <td>木更津工場</td>\n",
       "      <td>29</td>\n",
       "      <td>WH00003</td>\n",
       "      <td>豊洲倉庫</td>\n",
       "      <td>42</td>\n",
       "      <td>関東</td>\n",
       "    </tr>\n",
       "    <tr>\n",
       "      <th>4</th>\n",
       "      <td>2019-01-01 07:52:18</td>\n",
       "      <td>30</td>\n",
       "      <td>0.8</td>\n",
       "      <td>FC00001</td>\n",
       "      <td>東京工場</td>\n",
       "      <td>28</td>\n",
       "      <td>WH00002</td>\n",
       "      <td>品川倉庫</td>\n",
       "      <td>41</td>\n",
       "      <td>関東</td>\n",
       "    </tr>\n",
       "  </tbody>\n",
       "</table>\n",
       "</div>"
      ],
      "text/plain": [
       "       TransactionDate  Quantity  Cost     ToFC FCName  FCDemand   FromWH  \\\n",
       "0  2019-01-01 02:11:10        33   1.1  FC00004  横須賀工場        25  WH00003   \n",
       "1  2019-01-01 06:12:42        19   1.3  FC00007   那須工場        25  WH00006   \n",
       "2  2019-01-01 06:32:32        31   0.9  FC00006   山形工場        30  WH00004   \n",
       "3  2019-01-01 07:17:06        18   1.6  FC00002  木更津工場        29  WH00003   \n",
       "4  2019-01-01 07:52:18        30   0.8  FC00001   東京工場        28  WH00002   \n",
       "\n",
       "  WHName  WHSupply WHRegion  \n",
       "0   豊洲倉庫        42       関東  \n",
       "1   山形倉庫        65       東北  \n",
       "2   郡山倉庫        60       東北  \n",
       "3   豊洲倉庫        42       関東  \n",
       "4   品川倉庫        41       関東  "
      ]
     },
     "execution_count": 23,
     "metadata": {},
     "output_type": "execute_result"
    }
   ],
   "source": [
    "join_data.head()"
   ]
  },
  {
   "cell_type": "markdown",
   "metadata": {},
   "source": [
    "倉庫情報を付与した上で、データを見やすいように「輸送実施日、輸送数量、コスト、工場ID、工場名、工場需要、倉庫ID、倉庫名、倉庫供給量、支社」という並び順に変更した。"
   ]
  },
  {
   "cell_type": "markdown",
   "metadata": {},
   "source": [
    "#### 関東支社のデータ"
   ]
  },
  {
   "cell_type": "code",
   "execution_count": 24,
   "metadata": {},
   "outputs": [],
   "source": [
    "kanto = join_data.loc[join_data[\"WHRegion\"]==\"関東\"]"
   ]
  },
  {
   "cell_type": "code",
   "execution_count": 25,
   "metadata": {},
   "outputs": [
    {
     "data": {
      "text/html": [
       "<div>\n",
       "<style scoped>\n",
       "    .dataframe tbody tr th:only-of-type {\n",
       "        vertical-align: middle;\n",
       "    }\n",
       "\n",
       "    .dataframe tbody tr th {\n",
       "        vertical-align: top;\n",
       "    }\n",
       "\n",
       "    .dataframe thead th {\n",
       "        text-align: right;\n",
       "    }\n",
       "</style>\n",
       "<table border=\"1\" class=\"dataframe\">\n",
       "  <thead>\n",
       "    <tr style=\"text-align: right;\">\n",
       "      <th></th>\n",
       "      <th>TransactionDate</th>\n",
       "      <th>Quantity</th>\n",
       "      <th>Cost</th>\n",
       "      <th>ToFC</th>\n",
       "      <th>FCName</th>\n",
       "      <th>FCDemand</th>\n",
       "      <th>FromWH</th>\n",
       "      <th>WHName</th>\n",
       "      <th>WHSupply</th>\n",
       "      <th>WHRegion</th>\n",
       "    </tr>\n",
       "  </thead>\n",
       "  <tbody>\n",
       "    <tr>\n",
       "      <th>0</th>\n",
       "      <td>2019-01-01 02:11:10</td>\n",
       "      <td>33</td>\n",
       "      <td>1.1</td>\n",
       "      <td>FC00004</td>\n",
       "      <td>横須賀工場</td>\n",
       "      <td>25</td>\n",
       "      <td>WH00003</td>\n",
       "      <td>豊洲倉庫</td>\n",
       "      <td>42</td>\n",
       "      <td>関東</td>\n",
       "    </tr>\n",
       "    <tr>\n",
       "      <th>3</th>\n",
       "      <td>2019-01-01 07:17:06</td>\n",
       "      <td>18</td>\n",
       "      <td>1.6</td>\n",
       "      <td>FC00002</td>\n",
       "      <td>木更津工場</td>\n",
       "      <td>29</td>\n",
       "      <td>WH00003</td>\n",
       "      <td>豊洲倉庫</td>\n",
       "      <td>42</td>\n",
       "      <td>関東</td>\n",
       "    </tr>\n",
       "    <tr>\n",
       "      <th>4</th>\n",
       "      <td>2019-01-01 07:52:18</td>\n",
       "      <td>30</td>\n",
       "      <td>0.8</td>\n",
       "      <td>FC00001</td>\n",
       "      <td>東京工場</td>\n",
       "      <td>28</td>\n",
       "      <td>WH00002</td>\n",
       "      <td>品川倉庫</td>\n",
       "      <td>41</td>\n",
       "      <td>関東</td>\n",
       "    </tr>\n",
       "    <tr>\n",
       "      <th>7</th>\n",
       "      <td>2019-01-01 09:09:30</td>\n",
       "      <td>12</td>\n",
       "      <td>1.5</td>\n",
       "      <td>FC00001</td>\n",
       "      <td>東京工場</td>\n",
       "      <td>28</td>\n",
       "      <td>WH00003</td>\n",
       "      <td>豊洲倉庫</td>\n",
       "      <td>42</td>\n",
       "      <td>関東</td>\n",
       "    </tr>\n",
       "    <tr>\n",
       "      <th>8</th>\n",
       "      <td>2019-01-01 10:52:55</td>\n",
       "      <td>27</td>\n",
       "      <td>1.5</td>\n",
       "      <td>FC00003</td>\n",
       "      <td>多摩工場</td>\n",
       "      <td>31</td>\n",
       "      <td>WH00003</td>\n",
       "      <td>豊洲倉庫</td>\n",
       "      <td>42</td>\n",
       "      <td>関東</td>\n",
       "    </tr>\n",
       "  </tbody>\n",
       "</table>\n",
       "</div>"
      ],
      "text/plain": [
       "       TransactionDate  Quantity  Cost     ToFC FCName  FCDemand   FromWH  \\\n",
       "0  2019-01-01 02:11:10        33   1.1  FC00004  横須賀工場        25  WH00003   \n",
       "3  2019-01-01 07:17:06        18   1.6  FC00002  木更津工場        29  WH00003   \n",
       "4  2019-01-01 07:52:18        30   0.8  FC00001   東京工場        28  WH00002   \n",
       "7  2019-01-01 09:09:30        12   1.5  FC00001   東京工場        28  WH00003   \n",
       "8  2019-01-01 10:52:55        27   1.5  FC00003   多摩工場        31  WH00003   \n",
       "\n",
       "  WHName  WHSupply WHRegion  \n",
       "0   豊洲倉庫        42       関東  \n",
       "3   豊洲倉庫        42       関東  \n",
       "4   品川倉庫        41       関東  \n",
       "7   豊洲倉庫        42       関東  \n",
       "8   豊洲倉庫        42       関東  "
      ]
     },
     "execution_count": 25,
     "metadata": {},
     "output_type": "execute_result"
    }
   ],
   "source": [
    "kanto.head()"
   ]
  },
  {
   "cell_type": "markdown",
   "metadata": {},
   "source": [
    "#### 東北支社のデータ"
   ]
  },
  {
   "cell_type": "code",
   "execution_count": 26,
   "metadata": {},
   "outputs": [],
   "source": [
    "tohoku = join_data.loc[join_data[\"WHRegion\"]==\"東北\"]"
   ]
  },
  {
   "cell_type": "code",
   "execution_count": 27,
   "metadata": {},
   "outputs": [
    {
     "data": {
      "text/html": [
       "<div>\n",
       "<style scoped>\n",
       "    .dataframe tbody tr th:only-of-type {\n",
       "        vertical-align: middle;\n",
       "    }\n",
       "\n",
       "    .dataframe tbody tr th {\n",
       "        vertical-align: top;\n",
       "    }\n",
       "\n",
       "    .dataframe thead th {\n",
       "        text-align: right;\n",
       "    }\n",
       "</style>\n",
       "<table border=\"1\" class=\"dataframe\">\n",
       "  <thead>\n",
       "    <tr style=\"text-align: right;\">\n",
       "      <th></th>\n",
       "      <th>TransactionDate</th>\n",
       "      <th>Quantity</th>\n",
       "      <th>Cost</th>\n",
       "      <th>ToFC</th>\n",
       "      <th>FCName</th>\n",
       "      <th>FCDemand</th>\n",
       "      <th>FromWH</th>\n",
       "      <th>WHName</th>\n",
       "      <th>WHSupply</th>\n",
       "      <th>WHRegion</th>\n",
       "    </tr>\n",
       "  </thead>\n",
       "  <tbody>\n",
       "    <tr>\n",
       "      <th>1</th>\n",
       "      <td>2019-01-01 06:12:42</td>\n",
       "      <td>19</td>\n",
       "      <td>1.3</td>\n",
       "      <td>FC00007</td>\n",
       "      <td>那須工場</td>\n",
       "      <td>25</td>\n",
       "      <td>WH00006</td>\n",
       "      <td>山形倉庫</td>\n",
       "      <td>65</td>\n",
       "      <td>東北</td>\n",
       "    </tr>\n",
       "    <tr>\n",
       "      <th>2</th>\n",
       "      <td>2019-01-01 06:32:32</td>\n",
       "      <td>31</td>\n",
       "      <td>0.9</td>\n",
       "      <td>FC00006</td>\n",
       "      <td>山形工場</td>\n",
       "      <td>30</td>\n",
       "      <td>WH00004</td>\n",
       "      <td>郡山倉庫</td>\n",
       "      <td>60</td>\n",
       "      <td>東北</td>\n",
       "    </tr>\n",
       "    <tr>\n",
       "      <th>5</th>\n",
       "      <td>2019-01-01 08:56:09</td>\n",
       "      <td>31</td>\n",
       "      <td>0.3</td>\n",
       "      <td>FC00005</td>\n",
       "      <td>仙台工場</td>\n",
       "      <td>21</td>\n",
       "      <td>WH00005</td>\n",
       "      <td>仙台倉庫</td>\n",
       "      <td>72</td>\n",
       "      <td>東北</td>\n",
       "    </tr>\n",
       "    <tr>\n",
       "      <th>6</th>\n",
       "      <td>2019-01-01 09:00:15</td>\n",
       "      <td>33</td>\n",
       "      <td>0.7</td>\n",
       "      <td>FC00006</td>\n",
       "      <td>山形工場</td>\n",
       "      <td>30</td>\n",
       "      <td>WH00006</td>\n",
       "      <td>山形倉庫</td>\n",
       "      <td>65</td>\n",
       "      <td>東北</td>\n",
       "    </tr>\n",
       "    <tr>\n",
       "      <th>9</th>\n",
       "      <td>2019-01-01 14:12:51</td>\n",
       "      <td>21</td>\n",
       "      <td>0.7</td>\n",
       "      <td>FC00006</td>\n",
       "      <td>山形工場</td>\n",
       "      <td>30</td>\n",
       "      <td>WH00006</td>\n",
       "      <td>山形倉庫</td>\n",
       "      <td>65</td>\n",
       "      <td>東北</td>\n",
       "    </tr>\n",
       "  </tbody>\n",
       "</table>\n",
       "</div>"
      ],
      "text/plain": [
       "       TransactionDate  Quantity  Cost     ToFC FCName  FCDemand   FromWH  \\\n",
       "1  2019-01-01 06:12:42        19   1.3  FC00007   那須工場        25  WH00006   \n",
       "2  2019-01-01 06:32:32        31   0.9  FC00006   山形工場        30  WH00004   \n",
       "5  2019-01-01 08:56:09        31   0.3  FC00005   仙台工場        21  WH00005   \n",
       "6  2019-01-01 09:00:15        33   0.7  FC00006   山形工場        30  WH00006   \n",
       "9  2019-01-01 14:12:51        21   0.7  FC00006   山形工場        30  WH00006   \n",
       "\n",
       "  WHName  WHSupply WHRegion  \n",
       "1   山形倉庫        65       東北  \n",
       "2   郡山倉庫        60       東北  \n",
       "5   仙台倉庫        72       東北  \n",
       "6   山形倉庫        65       東北  \n",
       "9   山形倉庫        65       東北  "
      ]
     },
     "execution_count": 27,
     "metadata": {},
     "output_type": "execute_result"
    }
   ],
   "source": [
    "tohoku.head()"
   ]
  },
  {
   "cell_type": "markdown",
   "metadata": {},
   "source": [
    "### ノック５２：現状の輸送量、コストを確認してみよう\n",
    "\n",
    "実際に1年間に輸送した部品数やそれに掛かったコストを集計する"
   ]
  },
  {
   "cell_type": "code",
   "execution_count": 28,
   "metadata": {},
   "outputs": [
    {
     "name": "stdout",
     "output_type": "stream",
     "text": [
      "関東支社の総コスト: 2189.3万円\n"
     ]
    }
   ],
   "source": [
    "print(\"関東支社の総コスト: \" + str(kanto[\"Cost\"].sum()) + \"万円\")"
   ]
  },
  {
   "cell_type": "code",
   "execution_count": 29,
   "metadata": {},
   "outputs": [
    {
     "name": "stdout",
     "output_type": "stream",
     "text": [
      "東北支社の総コスト: 2062.0万円\n"
     ]
    }
   ],
   "source": [
    "print(\"東北支社の総コスト: \" + str(tohoku[\"Cost\"].sum()) + \"万円\")"
   ]
  },
  {
   "cell_type": "code",
   "execution_count": 30,
   "metadata": {},
   "outputs": [
    {
     "name": "stdout",
     "output_type": "stream",
     "text": [
      "関東支社の総部品輸送個数: 49146個\n"
     ]
    }
   ],
   "source": [
    "print(\"関東支社の総部品輸送個数: \" + str(kanto[\"Quantity\"].sum()) + \"個\")"
   ]
  },
  {
   "cell_type": "code",
   "execution_count": 31,
   "metadata": {},
   "outputs": [
    {
     "name": "stdout",
     "output_type": "stream",
     "text": [
      "東北支社の総部品輸送個数: 50214個\n"
     ]
    }
   ],
   "source": [
    "print(\"東北支社の総部品輸送個数: \" + str(tohoku[\"Quantity\"].sum()) + \"個\")"
   ]
  },
  {
   "cell_type": "code",
   "execution_count": 32,
   "metadata": {},
   "outputs": [],
   "source": [
    "tmp = (kanto[\"Cost\"].sum() / kanto[\"Quantity\"].sum()) * 10000"
   ]
  },
  {
   "cell_type": "code",
   "execution_count": 33,
   "metadata": {},
   "outputs": [
    {
     "name": "stdout",
     "output_type": "stream",
     "text": [
      "関東支社の部品1つ当たりの輸送コスト: 445円\n"
     ]
    }
   ],
   "source": [
    "print(\"関東支社の部品1つ当たりの輸送コスト: \" + str(int(tmp)) + \"円\")"
   ]
  },
  {
   "cell_type": "code",
   "execution_count": 34,
   "metadata": {},
   "outputs": [],
   "source": [
    "tmp = (tohoku[\"Cost\"].sum() / tohoku[\"Quantity\"].sum()) * 10000"
   ]
  },
  {
   "cell_type": "code",
   "execution_count": 35,
   "metadata": {},
   "outputs": [
    {
     "name": "stdout",
     "output_type": "stream",
     "text": [
      "東北支社の部品1つ当たりの輸送コスト: 410円\n"
     ]
    }
   ],
   "source": [
    "print(\"東北支社の部品1つ当たりの輸送コスト: \" + str(int(tmp)) + \"円\")"
   ]
  },
  {
   "cell_type": "markdown",
   "metadata": {},
   "source": [
    "#### 各支社の平均輸送コスト"
   ]
  },
  {
   "cell_type": "code",
   "execution_count": 36,
   "metadata": {},
   "outputs": [],
   "source": [
    "cost_chk = pd.merge(cost, factories, on=\"FCID\", how=\"left\")"
   ]
  },
  {
   "cell_type": "code",
   "execution_count": 37,
   "metadata": {},
   "outputs": [
    {
     "name": "stdout",
     "output_type": "stream",
     "text": [
      "東京支社の平均輸送コスト: 1.075万円\n"
     ]
    }
   ],
   "source": [
    "print(\"東京支社の平均輸送コスト: \" + str(cost_chk[\"Cost\"].loc[cost_chk[\"FCRegion\"]==\"関東\"].mean()) + \"万円\")"
   ]
  },
  {
   "cell_type": "code",
   "execution_count": 38,
   "metadata": {},
   "outputs": [
    {
     "name": "stdout",
     "output_type": "stream",
     "text": [
      "東北支社の平均輸送コスト: 1.05万円\n"
     ]
    }
   ],
   "source": [
    "print(\"東北支社の平均輸送コスト: \" + str(cost_chk[\"Cost\"].loc[cost_chk[\"FCRegion\"]==\"東北\"].mean()) + \"万円\")"
   ]
  },
  {
   "cell_type": "markdown",
   "metadata": {},
   "source": [
    "## 最適化問題\n",
    "最適化プログラムによって導き出されるプランを可視化するプロセスといくつかの条件を実際に満たしていることを確認するプロセスが重要"
   ]
  },
  {
   "cell_type": "markdown",
   "metadata": {},
   "source": [
    "### ノック５３：ネットワークを可視化してみよう\n",
    "\n",
    "ネットワークの可視化に有用なライブラリであるNetworkXの基礎的なプロセスを学ぶ"
   ]
  },
  {
   "cell_type": "code",
   "execution_count": 46,
   "metadata": {},
   "outputs": [
    {
     "data": {
      "image/png": "[encoded data removed]",
      "text/plain": [
       "<Figure size 432x288 with 1 Axes>"
      ]
     },
     "metadata": {},
     "output_type": "display_data"
    }
   ],
   "source": [
    "# グラフオブジェクトの作成\n",
    "G = nx.Graph()\n",
    "\n",
    "# 頂点の設定\n",
    "G.add_node(\"nodeA\")\n",
    "G.add_node(\"nodeB\")\n",
    "G.add_node(\"nodeC\")\n",
    "\n",
    "# 辺の設定\n",
    "G.add_edge(\"nodeA\", \"nodeB\")\n",
    "G.add_edge(\"nodeA\", \"nodeC\")\n",
    "G.add_edge(\"nodeB\", \"nodeC\")\n",
    "\n",
    "# 座標の設定\n",
    "pos = {}\n",
    "pos[\"nodeA\"] = (0, 0)\n",
    "pos[\"nodeB\"] = (1, 1)\n",
    "pos[\"nodeC\"] = (0, 1)\n",
    "\n",
    "# 描画\n",
    "nx.draw(G, pos, with_labels=True)"
   ]
  },
  {
   "cell_type": "markdown",
   "metadata": {},
   "source": [
    "これで倉庫から小売店までの物流ネットワークを表現することができる。\n",
    "\n",
    "ネットワークを可視化することで、数値だけではわかりにくかった物流の偏りなどの全体像を掴むことができる。"
   ]
  },
  {
   "cell_type": "markdown",
   "metadata": {},
   "source": [
    "### ノック５４：ネットワークにノードを追加してみよう"
   ]
  },
  {
   "cell_type": "code",
   "execution_count": 49,
   "metadata": {
    "scrolled": true
   },
   "outputs": [
    {
     "data": {
      "image/png": "[encoded data removed]",
      "text/plain": [
       "<Figure size 432x288 with 1 Axes>"
      ]
     },
     "metadata": {},
     "output_type": "display_data"
    }
   ],
   "source": [
    "# グラフオブジェクトの作成\n",
    "G = nx.Graph()\n",
    "\n",
    "# 頂点の設定\n",
    "G.add_node(\"nodeA\")\n",
    "G.add_node(\"nodeB\")\n",
    "G.add_node(\"nodeC\")\n",
    "G.add_node(\"nodeD\")\n",
    "\n",
    "# 辺の設定\n",
    "G.add_edge(\"nodeA\", \"nodeB\")\n",
    "G.add_edge(\"nodeA\", \"nodeC\")\n",
    "G.add_edge(\"nodeB\", \"nodeC\")\n",
    "G.add_edge(\"nodeA\", \"nodeD\")\n",
    "\n",
    "# 座標の設定\n",
    "pos = {}\n",
    "pos[\"nodeA\"] = (0, 0)\n",
    "pos[\"nodeB\"] = (1, 1)\n",
    "pos[\"nodeC\"] = (0, 1)\n",
    "pos[\"nodeD\"] = (1, 0)\n",
    "\n",
    "# 描画\n",
    "nx.draw(G, pos, with_labels=True)\n",
    "\n",
    "# 表示\n",
    "plt.show()"
   ]
  },
  {
   "cell_type": "markdown",
   "metadata": {},
   "source": [
    "### ノック５５：ルートの重みづけを実施しよう"
   ]
  },
  {
   "cell_type": "code",
   "execution_count": 51,
   "metadata": {},
   "outputs": [],
   "source": [
    "df_w = pd.read_csv('network_weight.csv')"
   ]
  },
  {
   "cell_type": "code",
   "execution_count": 52,
   "metadata": {},
   "outputs": [
    {
     "data": {
      "text/plain": [
       "(5, 5)"
      ]
     },
     "execution_count": 52,
     "metadata": {},
     "output_type": "execute_result"
    }
   ],
   "source": [
    "df_w.shape"
   ]
  },
  {
   "cell_type": "code",
   "execution_count": 53,
   "metadata": {},
   "outputs": [
    {
     "data": {
      "text/html": [
       "<div>\n",
       "<style scoped>\n",
       "    .dataframe tbody tr th:only-of-type {\n",
       "        vertical-align: middle;\n",
       "    }\n",
       "\n",
       "    .dataframe tbody tr th {\n",
       "        vertical-align: top;\n",
       "    }\n",
       "\n",
       "    .dataframe thead th {\n",
       "        text-align: right;\n",
       "    }\n",
       "</style>\n",
       "<table border=\"1\" class=\"dataframe\">\n",
       "  <thead>\n",
       "    <tr style=\"text-align: right;\">\n",
       "      <th></th>\n",
       "      <th>A</th>\n",
       "      <th>B</th>\n",
       "      <th>C</th>\n",
       "      <th>D</th>\n",
       "      <th>E</th>\n",
       "    </tr>\n",
       "  </thead>\n",
       "  <tbody>\n",
       "    <tr>\n",
       "      <th>0</th>\n",
       "      <td>0.639921</td>\n",
       "      <td>0.143353</td>\n",
       "      <td>0.944669</td>\n",
       "      <td>0.521848</td>\n",
       "      <td>0.000000</td>\n",
       "    </tr>\n",
       "    <tr>\n",
       "      <th>1</th>\n",
       "      <td>0.264556</td>\n",
       "      <td>0.000000</td>\n",
       "      <td>0.456150</td>\n",
       "      <td>0.568434</td>\n",
       "      <td>0.000000</td>\n",
       "    </tr>\n",
       "    <tr>\n",
       "      <th>2</th>\n",
       "      <td>0.617635</td>\n",
       "      <td>0.612096</td>\n",
       "      <td>0.616934</td>\n",
       "      <td>0.943748</td>\n",
       "      <td>0.000000</td>\n",
       "    </tr>\n",
       "    <tr>\n",
       "      <th>3</th>\n",
       "      <td>0.000000</td>\n",
       "      <td>0.000000</td>\n",
       "      <td>0.697631</td>\n",
       "      <td>0.060225</td>\n",
       "      <td>0.666767</td>\n",
       "    </tr>\n",
       "    <tr>\n",
       "      <th>4</th>\n",
       "      <td>0.670638</td>\n",
       "      <td>0.210383</td>\n",
       "      <td>0.000000</td>\n",
       "      <td>0.315428</td>\n",
       "      <td>0.000000</td>\n",
       "    </tr>\n",
       "  </tbody>\n",
       "</table>\n",
       "</div>"
      ],
      "text/plain": [
       "          A         B         C         D         E\n",
       "0  0.639921  0.143353  0.944669  0.521848  0.000000\n",
       "1  0.264556  0.000000  0.456150  0.568434  0.000000\n",
       "2  0.617635  0.612096  0.616934  0.943748  0.000000\n",
       "3  0.000000  0.000000  0.697631  0.060225  0.666767\n",
       "4  0.670638  0.210383  0.000000  0.315428  0.000000"
      ]
     },
     "execution_count": 53,
     "metadata": {},
     "output_type": "execute_result"
    }
   ],
   "source": [
    "df_w"
   ]
  },
  {
   "cell_type": "code",
   "execution_count": 54,
   "metadata": {},
   "outputs": [],
   "source": [
    "df_p = pd.read_csv('network_pos.csv')"
   ]
  },
  {
   "cell_type": "code",
   "execution_count": 55,
   "metadata": {},
   "outputs": [
    {
     "data": {
      "text/plain": [
       "(2, 5)"
      ]
     },
     "execution_count": 55,
     "metadata": {},
     "output_type": "execute_result"
    }
   ],
   "source": [
    "df_p.shape"
   ]
  },
  {
   "cell_type": "code",
   "execution_count": 56,
   "metadata": {},
   "outputs": [
    {
     "data": {
      "text/html": [
       "<div>\n",
       "<style scoped>\n",
       "    .dataframe tbody tr th:only-of-type {\n",
       "        vertical-align: middle;\n",
       "    }\n",
       "\n",
       "    .dataframe tbody tr th {\n",
       "        vertical-align: top;\n",
       "    }\n",
       "\n",
       "    .dataframe thead th {\n",
       "        text-align: right;\n",
       "    }\n",
       "</style>\n",
       "<table border=\"1\" class=\"dataframe\">\n",
       "  <thead>\n",
       "    <tr style=\"text-align: right;\">\n",
       "      <th></th>\n",
       "      <th>A</th>\n",
       "      <th>B</th>\n",
       "      <th>C</th>\n",
       "      <th>D</th>\n",
       "      <th>E</th>\n",
       "    </tr>\n",
       "  </thead>\n",
       "  <tbody>\n",
       "    <tr>\n",
       "      <th>0</th>\n",
       "      <td>0</td>\n",
       "      <td>0</td>\n",
       "      <td>2</td>\n",
       "      <td>2</td>\n",
       "      <td>1</td>\n",
       "    </tr>\n",
       "    <tr>\n",
       "      <th>1</th>\n",
       "      <td>0</td>\n",
       "      <td>2</td>\n",
       "      <td>0</td>\n",
       "      <td>2</td>\n",
       "      <td>1</td>\n",
       "    </tr>\n",
       "  </tbody>\n",
       "</table>\n",
       "</div>"
      ],
      "text/plain": [
       "   A  B  C  D  E\n",
       "0  0  0  2  2  1\n",
       "1  0  2  0  2  1"
      ]
     },
     "execution_count": 56,
     "metadata": {},
     "output_type": "execute_result"
    }
   ],
   "source": [
    "df_p"
   ]
  },
  {
   "cell_type": "code",
   "execution_count": 57,
   "metadata": {},
   "outputs": [],
   "source": [
    "# エッジの重みのリスト化\n",
    "size = 10\n",
    "edge_weights = []\n",
    "for i in range(len(df_w)):\n",
    "    for j in range(len(df_w.columns)):\n",
    "        edge_weights.append(df_w.iloc[i][j]*size)"
   ]
  },
  {
   "cell_type": "code",
   "execution_count": 59,
   "metadata": {},
   "outputs": [
    {
     "data": {
      "text/plain": [
       "25"
      ]
     },
     "execution_count": 59,
     "metadata": {},
     "output_type": "execute_result"
    }
   ],
   "source": [
    "len(edge_weights)"
   ]
  },
  {
   "cell_type": "code",
   "execution_count": 60,
   "metadata": {},
   "outputs": [
    {
     "data": {
      "text/plain": [
       "[6.39921,\n",
       " 1.4335300000000002,\n",
       " 9.44669,\n",
       " 5.21848,\n",
       " 0.0,\n",
       " 2.64556,\n",
       " 0.0,\n",
       " 4.5615,\n",
       " 5.68434,\n",
       " 0.0,\n",
       " 6.17635,\n",
       " 6.12096,\n",
       " 6.16934,\n",
       " 9.437479999999999,\n",
       " 0.0,\n",
       " 0.0,\n",
       " 0.0,\n",
       " 6.97631,\n",
       " 0.60225,\n",
       " 6.66767,\n",
       " 6.706379999999999,\n",
       " 2.10383,\n",
       " 0.0,\n",
       " 3.1542800000000004,\n",
       " 0.0]"
      ]
     },
     "execution_count": 60,
     "metadata": {},
     "output_type": "execute_result"
    }
   ],
   "source": [
    "edge_weights"
   ]
  },
  {
   "cell_type": "code",
   "execution_count": 61,
   "metadata": {},
   "outputs": [
    {
     "data": {
      "image/png": "[encoded data removed]",
      "text/plain": [
       "<Figure size 432x288 with 1 Axes>"
      ]
     },
     "metadata": {},
     "output_type": "display_data"
    }
   ],
   "source": [
    "# グラフオブジェクトの作成\n",
    "G = nx.Graph()\n",
    "\n",
    "# 頂点の設定\n",
    "for i in range(len(df_w.columns)):\n",
    "    G.add_node(df_w.columns[i])\n",
    "\n",
    "# 辺の設定\n",
    "for i in range(len(df_w.columns)):\n",
    "    for j in range(len(df_w.columns)):\n",
    "        G.add_edge(df_w.columns[i], df_w.columns[j])\n",
    "\n",
    "# 座標の設定\n",
    "pos = {}\n",
    "for i in range(len(df_w.columns)):\n",
    "    node = df_w.columns[i]\n",
    "    pos[node] = (df_p[node][0], df_p[node][1])\n",
    "\n",
    "# 描画\n",
    "nx.draw(G, pos, with_labels=True, font_size=16, node_size=1000, node_color='k', font_color='w', width=edge_weights)\n",
    "\n",
    "# 表示\n",
    "plt.show()"
   ]
  },
  {
   "cell_type": "code",
   "execution_count": null,
   "metadata": {},
   "outputs": [],
   "source": []
  },
  {
   "cell_type": "markdown",
   "metadata": {},
   "source": [
    "### ノック５６：輸送ルート情報を読み込んでみよう"
   ]
  },
  {
   "cell_type": "code",
   "execution_count": null,
   "metadata": {},
   "outputs": [],
   "source": []
  },
  {
   "cell_type": "markdown",
   "metadata": {},
   "source": [
    "### ノック５７：輸送ルート情報からネットワークを可視化してみよう"
   ]
  },
  {
   "cell_type": "code",
   "execution_count": null,
   "metadata": {},
   "outputs": [],
   "source": []
  },
  {
   "cell_type": "markdown",
   "metadata": {},
   "source": [
    "### ノック５８：輸送コスト関数を作成しよう"
   ]
  },
  {
   "cell_type": "code",
   "execution_count": null,
   "metadata": {},
   "outputs": [],
   "source": []
  },
  {
   "cell_type": "markdown",
   "metadata": {},
   "source": [
    "### ノック５９：制約条件を作ってみよう"
   ]
  },
  {
   "cell_type": "code",
   "execution_count": null,
   "metadata": {},
   "outputs": [],
   "source": []
  },
  {
   "cell_type": "markdown",
   "metadata": {},
   "source": [
    "### ノック６０：輸送ルートを変更して、輸送コスト関数の変化を確認しよう"
   ]
  },
  {
   "cell_type": "code",
   "execution_count": null,
   "metadata": {},
   "outputs": [],
   "source": []
  },
  {
   "cell_type": "code",
   "execution_count": null,
   "metadata": {},
   "outputs": [],
   "source": []
  }
 ],
 "metadata": {
  "kernelspec": {
   "display_name": "Python 3",
   "language": "python",
   "name": "python3"
  },
  "language_info": {
   "codemirror_mode": {
    "name": "ipython",
    "version": 3
   },
   "file_extension": ".py",
   "mimetype": "text/x-python",
   "name": "python",
   "nbconvert_exporter": "python",
   "pygments_lexer": "ipython3",
   "version": "3.7.6"
  }
 },
 "nbformat": 4,
 "nbformat_minor": 4
}
